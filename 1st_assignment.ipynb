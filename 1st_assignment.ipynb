{
  "cells": [
    {
      "cell_type": "markdown",
      "metadata": {
        "id": "view-in-github",
        "colab_type": "text"
      },
      "source": [
        "<a href=\"https://colab.research.google.com/github/OngBengSoon/Coursera-Stuff/blob/main/1st_assignment.ipynb\" target=\"_parent\"><img src=\"https://colab.research.google.com/assets/colab-badge.svg\" alt=\"Open In Colab\"/></a>"
      ]
    },
    {
      "cell_type": "markdown",
      "id": "072e5cfe-3ee5-4e3f-8e9a-2dae207c3f40",
      "metadata": {
        "id": "072e5cfe-3ee5-4e3f-8e9a-2dae207c3f40"
      },
      "source": [
        "# First Assignment"
      ]
    },
    {
      "cell_type": "code",
      "execution_count": null,
      "id": "965245b2-6fbd-455e-91bf-08c018f4dc11",
      "metadata": {
        "id": "965245b2-6fbd-455e-91bf-08c018f4dc11",
        "outputId": "bc9a0f68-722c-47c1-ebf4-b3cc8da3114f"
      },
      "outputs": [
        {
          "name": "stdout",
          "output_type": "stream",
          "text": [
            "hello world\n"
          ]
        }
      ],
      "source": [
        "#print hello world\n",
        "print(\"hello world\")"
      ]
    },
    {
      "cell_type": "code",
      "execution_count": null,
      "id": "05b9813c-8296-4c64-98a2-4721075b73db",
      "metadata": {
        "id": "05b9813c-8296-4c64-98a2-4721075b73db"
      },
      "outputs": [],
      "source": []
    }
  ],
  "metadata": {
    "kernelspec": {
      "display_name": "Python 3 (ipykernel)",
      "language": "python",
      "name": "python3"
    },
    "language_info": {
      "codemirror_mode": {
        "name": "ipython",
        "version": 3
      },
      "file_extension": ".py",
      "mimetype": "text/x-python",
      "name": "python",
      "nbconvert_exporter": "python",
      "pygments_lexer": "ipython3",
      "version": "3.10.0"
    },
    "colab": {
      "provenance": [],
      "include_colab_link": true
    }
  },
  "nbformat": 4,
  "nbformat_minor": 5
}